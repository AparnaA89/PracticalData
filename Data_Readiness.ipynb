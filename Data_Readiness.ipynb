{
 "cells": [
  {
   "cell_type": "code",
   "execution_count": 339,
   "metadata": {},
   "outputs": [],
   "source": [
    "import pandas as pd\n",
    "import numpy as np\n",
    "import seaborn as sns\n",
    "import matplotlib as mt\n",
    "import matplotlib.pyplot as plt\n",
    "from pandas import DataFrame, read_excel, merge"
   ]
  },
  {
   "cell_type": "code",
   "execution_count": 340,
   "metadata": {},
   "outputs": [],
   "source": [
    "data = pd.read_excel(\"D:\\\\Jupyter Notebook\\\\Assignment 2\\\\V2\\\\FK_SP_Multiple_Pgs_Combined_Cleansed_V1.xlsx\")"
   ]
  },
  {
   "cell_type": "code",
   "execution_count": 341,
   "metadata": {
    "scrolled": true
   },
   "outputs": [],
   "source": [
    "data1 = pd.DataFrame(data)\n",
    "#data1.head()"
   ]
  },
  {
   "cell_type": "code",
   "execution_count": 342,
   "metadata": {},
   "outputs": [],
   "source": [
    "data2 = data1[data1.Brand_Name.isin(['Samsung','Vivo', 'Redmi', 'Motorola', 'Realme', 'Asus', 'Oppo', 'Oneplus', 'Alcatel', 'Lenovo', 'Google', 'LG', 'Panasonic', 'Nokia', 'Sony', 'Xiaomi Mi', 'Micromax'])]"
   ]
  },
  {
   "cell_type": "code",
   "execution_count": 343,
   "metadata": {},
   "outputs": [
    {
     "data": {
      "text/plain": [
       "array(['4 GB RAM ', '3 GB RAM ', '6 GB RAM ', '1.5 GB RAM ', '12 GB RAM ',\n",
       "       '2 GB RAM ', '8 GB RAM ', '1 GB RAM ', '256 MB RAM ',\n",
       "       '512 MB RAM '], dtype=object)"
      ]
     },
     "execution_count": 343,
     "metadata": {},
     "output_type": "execute_result"
    }
   ],
   "source": [
    "data2['RAM1'].unique()"
   ]
  },
  {
   "cell_type": "code",
   "execution_count": 344,
   "metadata": {},
   "outputs": [
    {
     "data": {
      "text/plain": [
       "array([' 128 GB ROM ', ' 64 GB ROM ', ' 32 GB ROM ', ' 32 GB ROM',\n",
       "       ' 16 GB ROM ', ' 128 GB ROM', ' 256 GB ROM', ' 256 GB ROM ',\n",
       "       ' 4 GB ROM ', ' 16 GB ROM', ' 64 GB ROM', ' 512 GB ROM ',\n",
       "       ' 8 GB ROM ', ' 8 GB ROM', ' 256 MB ROM', ' 165 MB ROM '],\n",
       "      dtype=object)"
      ]
     },
     "execution_count": 344,
     "metadata": {},
     "output_type": "execute_result"
    }
   ],
   "source": [
    "data2['ROM'].unique()"
   ]
  },
  {
   "cell_type": "code",
   "execution_count": 345,
   "metadata": {
    "scrolled": true
   },
   "outputs": [
    {
     "data": {
      "text/plain": [
       "array(['MediaTek Helio G80 (12 nm)', 'MediaTek Helio P35',\n",
       "       'Qualcomm Snapdragon (SDM450-F01) Octa Core',\n",
       "       'MediaTek Helio G90T', 'SDM439', 'Exynos 850 Octa Core',\n",
       "       'Qualcomm Snapdragon 712 AIE Octa Core 2.3GHz',\n",
       "       'Qualcomm SDM450-B01', 'Qualcomm Snapdragon 625', 'Cortex-A7',\n",
       "       'SDM710', 'Qualcomm Snapdragon 615 Octa Core 1.5GHz',\n",
       "       'Qualcomm Snapdragon 450 Octa Core 1.8 GHz', '12 Months',\n",
       "       'Qualcomm Snapdragon 430 Octa Core 1.4GHz', 'Exynos 9 9820',\n",
       "       'MTK Helio P70', 'Qualcomm Snapdragon 626',\n",
       "       'Qualcomm Snapdragon 865',\n",
       "       'Qualcomm Snapdragon (SDM439) Octa Core', 'MTK Helio P22',\n",
       "       'Brand Warranty of 1 Year Available for Mobile and 6 Months for Accessories',\n",
       "       'MT8735A A53', 'Snapdragon', 'Qualcomm Snapdragon 800',\n",
       "       'Qualcomm Spectra 480 ISP', '\\xa0Exynos 9611-Octa Core processor',\n",
       "       'Intel Atom Z2560', 'Qualcomm SM6150', 'Exynos 9810',\n",
       "       'Qualcomm Snapdragon 435 1.4 GHz Octacore', '1.2 GHz Quad Core',\n",
       "       '1 year', 'MTK6737', 'Qualcomm Snapdragon 410 MSM8916',\n",
       "       'Intel Atom Z2560 with Intel Hyper Threading Technology',\n",
       "       'Qualcomm Snapdragon 439', 'MediaTek Helio P60',\n",
       "       'Qualcomm Snapdragon 660', 'Mediatek MTK 6737H Quad Core',\n",
       "       'Snapdragon 425 Quad Core', 'Exynos 9611',\n",
       "       'Qualcomm Snapdragon 636', 'Qualcomm SM7150',\n",
       "       'MediaTek MTK Helio P25 Octa Core 2.5 GHz', 'Qualcomm Snapdragon',\n",
       "       'MediaTek MT6762', 'MediaTek Helio P22',\n",
       "       'Qualcomm Snapdragon 820 Quad Core 2.15GHz',\n",
       "       'Qualcomm Snapdragon 450', 'Exynos 990', 'Qualcomm Snapdragon 430',\n",
       "       'MediaTek MT6750 64-bit Octa Core 1.5GHz',\n",
       "       'MediaTek Helio P22 Octa Core', 'Qualcomm Snapdragon 660 AIE',\n",
       "       'Qualcomm Snapdragon 430 64-bit Octa Core 1.4GHz', '18 Months',\n",
       "       'Qualcomm Snapdragon 835', 'Qualcomm Snapdragon SDM450', '1',\n",
       "       'Exynos 7870', 'Exynos 7904', 'MT6582M', 'Qualcomm Snapdragon 425',\n",
       "       'Exynos 7884', 'Qualcomm Snapdragon 821 64-bit Quad Core 2.15GHz',\n",
       "       'Exynos 7570 Quad Core 1.4GHz', '12 months',\n",
       "       'Qualcomm Octa Core 1.4GHz', '1 Year Warranty',\n",
       "       '1 Year Lenovo India Warranty', 'MT6762 (Helio P22)',\n",
       "       'Snapdragon 425',\n",
       "       '1 year manufacturer warranty for device and 6 months manufacturer warranty for in-box accessories including batteries from the date of purchase',\n",
       "       'MTK 6572AW', 'Mediatek Helio P22',\n",
       "       'Mediatek MT6753 Octa Core 1.3GHz',\n",
       "       'Qualcomm Snapdragon 625 64-bit Octa Core 2 GHz',\n",
       "       '6 Months Brand Warranty', 'MediaTek Helio A22', 'Exynos 7570',\n",
       "       'Mediatek Octa-Core 1.69GHz',\n",
       "       'ARM Cortex-A53 (MediaTek MT6752 64-bit 4G LTE) Octa Core 1.7GHz',\n",
       "       'Spreadtrum Quad-Core 1.5GHz', 'Octa Core 1.4GHz',\n",
       "       'Mediatek MTK6737 Quad Core 1.3Ghz', 'Exynos Octa-Core 1.6GHz',\n",
       "       'Qualcomm Snapdragon 845', '1 Year Manufacturer Warranty',\n",
       "       'Qualcomm Snapdragon 410 Quad Core 1.2GHz',\n",
       "       'Qualcomm Snapdragon 625 64-bit Octa Core 2GHz', 'MT6592',\n",
       "       'Exynos 7884B', 'Qualcomm Snapdragon SD425',\n",
       "       'Qualcomm Snapdragon 615 MSM8939', 'Qualcomm MSM8917',\n",
       "       'Qualcomm Snapdragron 675', 'Qualcomm Snapdragon 630',\n",
       "       'Qualcomm Snapdragon 801 MSM8974-AC',\n",
       "       '2nd-gen Snapdragon 615 64-bit octa-core',\n",
       "       'Mediatek MT6592 Octa Core 1.4GHz', '12 Months Brand Warranty',\n",
       "       'Qualcomm Snapdragon 615',\n",
       "       'Intel Atom Z2520 with Intel Hyper Threading Technology',\n",
       "       'Qualcomm Snapdragon 805 QSC 8084', 'MSM8952', '1 Year',\n",
       "       'Qualcomm Snapdragon 855+', 'Samsung Exynos Octa Core (2.2 GHz)',\n",
       "       'Mediatek MT6737 Quad Core 1.25GHz', 'Exynos Octa-Core 1.6 GHz',\n",
       "       'Qualcomm Snapdragon 429', 'MT6739', 'MT6737M Quad Core 1.1 GHz',\n",
       "       'MTK6737 A53', 'Exynos Adonis Prime2 Octa Core 1.9GHz',\n",
       "       'ARM Cortex-A5',\n",
       "       '1 Year Manufacturer Warranty for Device and 6 Months Manufacturer Warranty for In-box Accessories Including Batteries from the Date of Purchase.',\n",
       "       'Exynos 7870 Octa Core 1.6GHz', 'Exynos 8895 Octa Core 2.3GHz',\n",
       "       'Mediatek MT6750 Octa Core 1.5GHz', 'Mediatek MTK6737 1.25GHz',\n",
       "       'Qualcomm Snapdragon 430 64-bit Octa Core 1.4 GHz',\n",
       "       '0 0 Octa Core 2.1GHz',\n",
       "       '1 Year on Handset & 6 Months on Accessories',\n",
       "       '1 Year Manufacturer Warranty for Handset and 6 Months for Accessories',\n",
       "       'Snapdragon 439 octa core processor', 'Snapdragon 435',\n",
       "       'Qualcomm Octa Core 1.5GHz',\n",
       "       'ARM Cortex-A53 (MediaTek MT6752 64-bit 4G LTE)',\n",
       "       'Qualcomm Snapdragon 730G', 'Helio G70', 'Snapdragon 720G',\n",
       "       'Qualcomm Snapdragon 636 Octa Core', 'Qualcomm Snapdragon 675',\n",
       "       'Qualcomm Snapdragon 665', 'Qualcomm Snapdragon 855 Plus',\n",
       "       'Qualcomm Snapdragon 636 Octacore', 'Exynos 9610',\n",
       "       'Qualcomm Snapdragon 632 Octa Core', 'Helio P65',\n",
       "       'Qualcomm Snapdragon 710 Octa Core 2.2 GHz AIE', 'Meditek',\n",
       "       'Qualcomm Snapdragon 855 (SM8150)',\n",
       "       '1.2 GHz + Qualcomm Snapdragon 410 MSM8916 Cortex-A53, Quad Core',\n",
       "       'Exynos 3475 Quad Core 1.3GHz', 'qualcomm 0 Dual Core 1.2GHz',\n",
       "       'Qualcomm Snapdragon 730', 'Qualcomm SDM632',\n",
       "       'Octa Core Qualcomm Snapdragon 625', 'MT6739WA',\n",
       "       'MediaTek MTK 6750S 1.5 Ghz Octa-core',\n",
       "       'MediaTek 64-bit Quad Core 1.25GHz', nan,\n",
       "       'Samsung Exynos 9 Octa 9611', 'Meditek Quad Core',\n",
       "       'Qualcomm Snapdragon 660 Octa Core 1.95GHz AIE', 'Octa-Core',\n",
       "       'Qualcomm Snapdragon 855', 'Qualcomm Snapdragon 675AIE',\n",
       "       'Helio P65 (MT6768)', 'Qualcomm Snapdragon 712 AIE',\n",
       "       'MediaTek MT6739', 'Octa Core MediaTek MT6750, 1.5GHz',\n",
       "       'MediaTek Helio P70 Octa Core 2.1 GHz AI',\n",
       "       'Spreadtrum SC7731G Quad Core 1.3GHz',\n",
       "       'Qualcomm Snapdragon 845 64-bit',\n",
       "       'Qualcomm Snapdragon 625 64-bit Octa Core 2.0GHz',\n",
       "       '1 Year for Mobile & 6 Months for Accessories',\n",
       "       'Qualcomm Snapdragon 808',\n",
       "       'Qualcomm Snapdragon 653 Octa Core 1.95GHz',\n",
       "       'Exynos Exynos Octa Core 1.6GHz', '12 month', 'Exynos 5422',\n",
       "       'Exynos 7880 64-bit', 'Spreadtrum Quad Core 1.5GHz',\n",
       "       'Spreadtrum SC7731 Quad Core 1.3GHz',\n",
       "       'Qualcomm Snapdragon 652 Octa Core 1.8GHz',\n",
       "       'Octa Core Qualcomm Snapdragon 430',\n",
       "       'Mediatek MT6737 Quad Core 1.3GHz', 'MediaTek MT6752',\n",
       "       'Qualcomm Snapdragon 730G Octa-Core',\n",
       "       'Qualcomm Snapdragon 835 Octa Core 2.5 GHz',\n",
       "       'Qualcomm Snapdragon 675AIE Octa Core 2.0GHz',\n",
       "       'Octa core (2 GHz, Dual core, Kryo 460 + 1.7 GHz, Hexa Core, Kryo 460)',\n",
       "       'Qualcomm Snapdragon 675 AIE', 'Qualcomm SDM429 Snapdragon 429',\n",
       "       'Helio P22', 'Brand Warranty of 18 Months Available for Mobile',\n",
       "       '2.0 GHz Qualcomm Snapdragon 660 AIE', '18 MONTHS',\n",
       "       'Qualcomm Snapdragon™ 855 Octa-core (up to 2.84 GHz x 1 + 2.42 GHz x 3 + 1.79 GHz x 4)',\n",
       "       'Qualcomm SDM855', 'MT6762 Octa Core (Helio P22)',\n",
       "       'qualcomm Qualcomm Snapdragon 800 8274AB Quad Core 2.3GHz'],\n",
       "      dtype=object)"
      ]
     },
     "execution_count": 345,
     "metadata": {},
     "output_type": "execute_result"
    }
   ],
   "source": [
    "data2['Processor1'].unique()"
   ]
  },
  {
   "cell_type": "code",
   "execution_count": 346,
   "metadata": {},
   "outputs": [],
   "source": [
    "temp = data2.Processor1.fillna(\"NULL\")"
   ]
  },
  {
   "cell_type": "code",
   "execution_count": 347,
   "metadata": {},
   "outputs": [],
   "source": [
    "Pros_cat = read_excel('Processor_Category.xlsx')"
   ]
  },
  {
   "cell_type": "code",
   "execution_count": 348,
   "metadata": {},
   "outputs": [],
   "source": [
    "data2 = data2.merge(Pros_cat, on='Processor1', how='left')"
   ]
  },
  {
   "cell_type": "code",
   "execution_count": 349,
   "metadata": {
    "scrolled": true
   },
   "outputs": [
    {
     "data": {
      "text/html": [
       "<div>\n",
       "<style scoped>\n",
       "    .dataframe tbody tr th:only-of-type {\n",
       "        vertical-align: middle;\n",
       "    }\n",
       "\n",
       "    .dataframe tbody tr th {\n",
       "        vertical-align: top;\n",
       "    }\n",
       "\n",
       "    .dataframe thead th {\n",
       "        text-align: right;\n",
       "    }\n",
       "</style>\n",
       "<table border=\"1\" class=\"dataframe\">\n",
       "  <thead>\n",
       "    <tr style=\"text-align: right;\">\n",
       "      <th></th>\n",
       "      <th>Unnamed: 0</th>\n",
       "      <th>Unnamed: 0.1</th>\n",
       "      <th>Product_Name</th>\n",
       "      <th>Price</th>\n",
       "      <th>Rating</th>\n",
       "      <th>RAM</th>\n",
       "      <th>Display</th>\n",
       "      <th>Camera</th>\n",
       "      <th>Battery</th>\n",
       "      <th>Processor</th>\n",
       "      <th>...</th>\n",
       "      <th>RAM1</th>\n",
       "      <th>ROM</th>\n",
       "      <th>Expnd_Mem</th>\n",
       "      <th>Rear_Camera</th>\n",
       "      <th>Front_Camera</th>\n",
       "      <th>Battery1</th>\n",
       "      <th>Processor1</th>\n",
       "      <th>Brand</th>\n",
       "      <th>Brand_Name</th>\n",
       "      <th>Processor_Category</th>\n",
       "    </tr>\n",
       "  </thead>\n",
       "  <tbody>\n",
       "    <tr>\n",
       "      <td>0</td>\n",
       "      <td>0</td>\n",
       "      <td>0</td>\n",
       "      <td>Realme Narzo 10 (That White, 128 GB)</td>\n",
       "      <td>₹11,999</td>\n",
       "      <td>4.5</td>\n",
       "      <td>4 GB RAM | 128 GB ROM | Expandable Upto 256 GB</td>\n",
       "      <td>6.5 inch</td>\n",
       "      <td>48MP + 8MP + 2MP + 2MP | 16MP Front Camera</td>\n",
       "      <td>5000 mAh Lithium-ion Battery</td>\n",
       "      <td>MediaTek Helio G80 (12 nm) Processor</td>\n",
       "      <td>...</td>\n",
       "      <td>4 GB RAM</td>\n",
       "      <td>128 GB ROM</td>\n",
       "      <td>Expandable Upto 256 GB</td>\n",
       "      <td>48MP + 8MP + 2MP + 2MP</td>\n",
       "      <td>16MP Front Camera</td>\n",
       "      <td>5000 mAh</td>\n",
       "      <td>MediaTek Helio G80 (12 nm)</td>\n",
       "      <td>Realme</td>\n",
       "      <td>Realme</td>\n",
       "      <td>MediaTek</td>\n",
       "    </tr>\n",
       "    <tr>\n",
       "      <td>1</td>\n",
       "      <td>1</td>\n",
       "      <td>0</td>\n",
       "      <td>Realme Narzo 10 (That White, 128 GB)</td>\n",
       "      <td>₹11,999</td>\n",
       "      <td>4.5</td>\n",
       "      <td>4 GB RAM | 128 GB ROM | Expandable Upto 256 GB</td>\n",
       "      <td>6.5 inch</td>\n",
       "      <td>48MP + 8MP + 2MP + 2MP | 16MP Front Camera</td>\n",
       "      <td>5000 mAh Lithium-ion Battery</td>\n",
       "      <td>MediaTek Helio G80 (12 nm) Processor</td>\n",
       "      <td>...</td>\n",
       "      <td>4 GB RAM</td>\n",
       "      <td>128 GB ROM</td>\n",
       "      <td>Expandable Upto 256 GB</td>\n",
       "      <td>48MP + 8MP + 2MP + 2MP</td>\n",
       "      <td>16MP Front Camera</td>\n",
       "      <td>5000 mAh</td>\n",
       "      <td>MediaTek Helio G80 (12 nm)</td>\n",
       "      <td>Realme</td>\n",
       "      <td>Realme</td>\n",
       "      <td>MediaTek</td>\n",
       "    </tr>\n",
       "    <tr>\n",
       "      <td>2</td>\n",
       "      <td>2</td>\n",
       "      <td>1</td>\n",
       "      <td>Realme Narzo 10 (That Green, 128 GB)</td>\n",
       "      <td>₹11,999</td>\n",
       "      <td>4.5</td>\n",
       "      <td>4 GB RAM | 128 GB ROM | Expandable Upto 256 GB</td>\n",
       "      <td>6.5 inch</td>\n",
       "      <td>48MP + 8MP + 2MP + 2MP | 16MP Front Camera</td>\n",
       "      <td>5000 mAh Lithium-ion Battery</td>\n",
       "      <td>MediaTek Helio G80 (12 nm) Processor</td>\n",
       "      <td>...</td>\n",
       "      <td>4 GB RAM</td>\n",
       "      <td>128 GB ROM</td>\n",
       "      <td>Expandable Upto 256 GB</td>\n",
       "      <td>48MP + 8MP + 2MP + 2MP</td>\n",
       "      <td>16MP Front Camera</td>\n",
       "      <td>5000 mAh</td>\n",
       "      <td>MediaTek Helio G80 (12 nm)</td>\n",
       "      <td>Realme</td>\n",
       "      <td>Realme</td>\n",
       "      <td>MediaTek</td>\n",
       "    </tr>\n",
       "    <tr>\n",
       "      <td>3</td>\n",
       "      <td>3</td>\n",
       "      <td>1</td>\n",
       "      <td>Realme Narzo 10 (That Green, 128 GB)</td>\n",
       "      <td>₹11,999</td>\n",
       "      <td>4.5</td>\n",
       "      <td>4 GB RAM | 128 GB ROM | Expandable Upto 256 GB</td>\n",
       "      <td>6.5 inch</td>\n",
       "      <td>48MP + 8MP + 2MP + 2MP | 16MP Front Camera</td>\n",
       "      <td>5000 mAh Lithium-ion Battery</td>\n",
       "      <td>MediaTek Helio G80 (12 nm) Processor</td>\n",
       "      <td>...</td>\n",
       "      <td>4 GB RAM</td>\n",
       "      <td>128 GB ROM</td>\n",
       "      <td>Expandable Upto 256 GB</td>\n",
       "      <td>48MP + 8MP + 2MP + 2MP</td>\n",
       "      <td>16MP Front Camera</td>\n",
       "      <td>5000 mAh</td>\n",
       "      <td>MediaTek Helio G80 (12 nm)</td>\n",
       "      <td>Realme</td>\n",
       "      <td>Realme</td>\n",
       "      <td>MediaTek</td>\n",
       "    </tr>\n",
       "    <tr>\n",
       "      <td>4</td>\n",
       "      <td>4</td>\n",
       "      <td>2</td>\n",
       "      <td>Motorola G8 Power Lite (Arctic Blue, 64 GB)</td>\n",
       "      <td>₹8,999</td>\n",
       "      <td>4.5</td>\n",
       "      <td>4 GB RAM | 64 GB ROM | Expandable Upto 256 GB</td>\n",
       "      <td>6.5 inch</td>\n",
       "      <td>16MP + 2MP + 2MP | 8MP Front Camera</td>\n",
       "      <td>5000 mAh Lithium-ion Battery</td>\n",
       "      <td>MediaTek Helio P35 Processor</td>\n",
       "      <td>...</td>\n",
       "      <td>4 GB RAM</td>\n",
       "      <td>64 GB ROM</td>\n",
       "      <td>Expandable Upto 256 GB</td>\n",
       "      <td>16MP + 2MP + 2MP</td>\n",
       "      <td>8MP Front Camera</td>\n",
       "      <td>5000 mAh</td>\n",
       "      <td>MediaTek Helio P35</td>\n",
       "      <td>Motorola</td>\n",
       "      <td>Motorola</td>\n",
       "      <td>MediaTek</td>\n",
       "    </tr>\n",
       "  </tbody>\n",
       "</table>\n",
       "<p>5 rows × 22 columns</p>\n",
       "</div>"
      ],
      "text/plain": [
       "   Unnamed: 0  Unnamed: 0.1                                 Product_Name  \\\n",
       "0           0             0         Realme Narzo 10 (That White, 128 GB)   \n",
       "1           1             0         Realme Narzo 10 (That White, 128 GB)   \n",
       "2           2             1         Realme Narzo 10 (That Green, 128 GB)   \n",
       "3           3             1         Realme Narzo 10 (That Green, 128 GB)   \n",
       "4           4             2  Motorola G8 Power Lite (Arctic Blue, 64 GB)   \n",
       "\n",
       "     Price  Rating                                             RAM   Display  \\\n",
       "0  ₹11,999     4.5  4 GB RAM | 128 GB ROM | Expandable Upto 256 GB  6.5 inch   \n",
       "1  ₹11,999     4.5  4 GB RAM | 128 GB ROM | Expandable Upto 256 GB  6.5 inch   \n",
       "2  ₹11,999     4.5  4 GB RAM | 128 GB ROM | Expandable Upto 256 GB  6.5 inch   \n",
       "3  ₹11,999     4.5  4 GB RAM | 128 GB ROM | Expandable Upto 256 GB  6.5 inch   \n",
       "4   ₹8,999     4.5   4 GB RAM | 64 GB ROM | Expandable Upto 256 GB  6.5 inch   \n",
       "\n",
       "                                       Camera                       Battery  \\\n",
       "0  48MP + 8MP + 2MP + 2MP | 16MP Front Camera  5000 mAh Lithium-ion Battery   \n",
       "1  48MP + 8MP + 2MP + 2MP | 16MP Front Camera  5000 mAh Lithium-ion Battery   \n",
       "2  48MP + 8MP + 2MP + 2MP | 16MP Front Camera  5000 mAh Lithium-ion Battery   \n",
       "3  48MP + 8MP + 2MP + 2MP | 16MP Front Camera  5000 mAh Lithium-ion Battery   \n",
       "4         16MP + 2MP + 2MP | 8MP Front Camera  5000 mAh Lithium-ion Battery   \n",
       "\n",
       "                              Processor  ...       RAM1           ROM  \\\n",
       "0  MediaTek Helio G80 (12 nm) Processor  ...  4 GB RAM    128 GB ROM    \n",
       "1  MediaTek Helio G80 (12 nm) Processor  ...  4 GB RAM    128 GB ROM    \n",
       "2  MediaTek Helio G80 (12 nm) Processor  ...  4 GB RAM    128 GB ROM    \n",
       "3  MediaTek Helio G80 (12 nm) Processor  ...  4 GB RAM    128 GB ROM    \n",
       "4          MediaTek Helio P35 Processor  ...  4 GB RAM     64 GB ROM    \n",
       "\n",
       "                 Expnd_Mem              Rear_Camera        Front_Camera  \\\n",
       "0   Expandable Upto 256 GB  48MP + 8MP + 2MP + 2MP    16MP Front Camera   \n",
       "1   Expandable Upto 256 GB  48MP + 8MP + 2MP + 2MP    16MP Front Camera   \n",
       "2   Expandable Upto 256 GB  48MP + 8MP + 2MP + 2MP    16MP Front Camera   \n",
       "3   Expandable Upto 256 GB  48MP + 8MP + 2MP + 2MP    16MP Front Camera   \n",
       "4   Expandable Upto 256 GB        16MP + 2MP + 2MP     8MP Front Camera   \n",
       "\n",
       "   Battery1                  Processor1     Brand Brand_Name  \\\n",
       "0  5000 mAh  MediaTek Helio G80 (12 nm)    Realme     Realme   \n",
       "1  5000 mAh  MediaTek Helio G80 (12 nm)    Realme     Realme   \n",
       "2  5000 mAh  MediaTek Helio G80 (12 nm)    Realme     Realme   \n",
       "3  5000 mAh  MediaTek Helio G80 (12 nm)    Realme     Realme   \n",
       "4  5000 mAh          MediaTek Helio P35  Motorola   Motorola   \n",
       "\n",
       "  Processor_Category  \n",
       "0           MediaTek  \n",
       "1           MediaTek  \n",
       "2           MediaTek  \n",
       "3           MediaTek  \n",
       "4           MediaTek  \n",
       "\n",
       "[5 rows x 22 columns]"
      ]
     },
     "execution_count": 349,
     "metadata": {},
     "output_type": "execute_result"
    }
   ],
   "source": [
    "data2.head()"
   ]
  },
  {
   "cell_type": "code",
   "execution_count": 350,
   "metadata": {},
   "outputs": [],
   "source": [
    "data2.to_excel(\"D:\\\\Jupyter Notebook\\\\Assignment 2\\\\V2\\\\FK_SP_Multiple_Pgs_Combined_Cleansed_V1_V2.xlsx\")"
   ]
  },
  {
   "cell_type": "code",
   "execution_count": 351,
   "metadata": {},
   "outputs": [],
   "source": [
    "data3 = pd.DataFrame(data2)"
   ]
  },
  {
   "cell_type": "code",
   "execution_count": 352,
   "metadata": {},
   "outputs": [
    {
     "data": {
      "text/plain": [
       "Index(['Unnamed: 0', 'Unnamed: 0.1', 'Product_Name', 'Price', 'Rating', 'RAM',\n",
       "       'Display', 'Camera', 'Battery', 'Processor', 'filename', 'Price1',\n",
       "       'RAM1', 'ROM', 'Expnd_Mem', 'Rear_Camera', 'Front_Camera', 'Battery1',\n",
       "       'Processor1', 'Brand', 'Brand_Name', 'Processor_Category'],\n",
       "      dtype='object')"
      ]
     },
     "execution_count": 352,
     "metadata": {},
     "output_type": "execute_result"
    }
   ],
   "source": [
    "data3.columns"
   ]
  },
  {
   "cell_type": "code",
   "execution_count": 353,
   "metadata": {},
   "outputs": [
    {
     "data": {
      "text/plain": [
       "array(['MediaTek', 'Qualcomm', 'Exynos', 'Blank', 'Intel', nan],\n",
       "      dtype=object)"
      ]
     },
     "execution_count": 353,
     "metadata": {},
     "output_type": "execute_result"
    }
   ],
   "source": [
    "data3['Processor_Category'].unique()"
   ]
  },
  {
   "cell_type": "code",
   "execution_count": 354,
   "metadata": {},
   "outputs": [],
   "source": [
    "data3['Processor_Category'] = data3['Processor_Category'].fillna('Blank')"
   ]
  },
  {
   "cell_type": "code",
   "execution_count": 355,
   "metadata": {},
   "outputs": [],
   "source": [
    "data3 = data3.drop(columns=\"filename\")\n",
    "data3 = data3.drop(columns=\"Unnamed: 0\")\n",
    "data3 = data3.drop(columns=\"Unnamed: 0.1\")\n",
    "data3 = data3.drop(columns=\"Price\")\n",
    "data3 = data3.drop(columns=\"RAM\")\n",
    "data3 = data3.drop(columns=\"Battery\")\n",
    "data3 = data3.drop(columns=\"Camera\")\n",
    "data3 = data3.drop(columns=\"Brand\")\n",
    "data3 = data3.drop(columns=\"Processor\")"
   ]
  },
  {
   "cell_type": "code",
   "execution_count": 356,
   "metadata": {},
   "outputs": [
    {
     "data": {
      "text/plain": [
       "Index(['Product_Name', 'Rating', 'Display', 'Price1', 'RAM1', 'ROM',\n",
       "       'Expnd_Mem', 'Rear_Camera', 'Front_Camera', 'Battery1', 'Processor1',\n",
       "       'Brand_Name', 'Processor_Category'],\n",
       "      dtype='object')"
      ]
     },
     "execution_count": 356,
     "metadata": {},
     "output_type": "execute_result"
    }
   ],
   "source": [
    "data3.columns"
   ]
  },
  {
   "cell_type": "code",
   "execution_count": 357,
   "metadata": {
    "scrolled": true
   },
   "outputs": [
    {
     "data": {
      "text/plain": [
       "Index(['Product_Name', 'Rating', 'Display', 'Price', 'RAM', 'ROM',\n",
       "       'Expandable_Memory', 'Rear_Camera', 'Front_Camera', 'Battery',\n",
       "       'Processor', 'Brand_Name', 'Processor_Category'],\n",
       "      dtype='object')"
      ]
     },
     "execution_count": 357,
     "metadata": {},
     "output_type": "execute_result"
    }
   ],
   "source": [
    "data3.columns=[\"Product_Name\",\"Rating\",\"Display\",\"Price\",\"RAM\",\"ROM\",\"Expandable_Memory\",\"Rear_Camera\",\"Front_Camera\",\"Battery\",\"Processor\",\"Brand_Name\",\"Processor_Category\"]\n",
    "data3.columns"
   ]
  },
  {
   "cell_type": "code",
   "execution_count": 358,
   "metadata": {},
   "outputs": [],
   "source": [
    "data3['Display']=data3['Display'].str.replace(' inch','')\n",
    "data3['Rear_Camera']=data3['Rear_Camera'].str.replace(' Rear Camera','')\n",
    "data3['Rear_Camera']=data3['Rear_Camera'].str.replace(' Camera','')\n",
    "data3['Front_Camera']=data3['Front_Camera'].str.replace(' Front Camera','')\n",
    "data3['Battery']=data3['Battery'].str.replace(' mAh','')"
   ]
  },
  {
   "cell_type": "code",
   "execution_count": 359,
   "metadata": {},
   "outputs": [],
   "source": [
    "data3 = data3[data3.Brand_Name.isin(['Samsung','Vivo', 'Redmi', 'Motorola', 'Realme', 'Asus', 'Oppo', 'Oneplus', 'Alcatel', 'Lenovo', 'Google', 'LG', 'Panasonic', 'Nokia', 'Sony', 'Xiaomi Mi', 'Micromax'])]"
   ]
  },
  {
   "cell_type": "code",
   "execution_count": 360,
   "metadata": {
    "scrolled": true
   },
   "outputs": [],
   "source": [
    "#data3['Battery'].value_counts()\n",
    "data3['Battery_1'] = data3['Battery'].astype('int64', copy=False)"
   ]
  },
  {
   "cell_type": "code",
   "execution_count": 361,
   "metadata": {},
   "outputs": [],
   "source": [
    "data3['rating_1'] = pd.qcut(data3['Rating'], q=4)\n",
    "data3['Price_1'] = pd.qcut(data3['Price'], q=4)"
   ]
  },
  {
   "cell_type": "code",
   "execution_count": 362,
   "metadata": {},
   "outputs": [],
   "source": [
    "data3['Battery_1'] = pd.qcut(data3['Battery_1'], q=4)"
   ]
  },
  {
   "cell_type": "code",
   "execution_count": 371,
   "metadata": {},
   "outputs": [
    {
     "data": {
      "text/plain": [
       "(3.099, 4.1]    303\n",
       "(4.1, 4.3]      290\n",
       "(4.4, 5.0]      252\n",
       "(4.3, 4.4]      206\n",
       "Name: rating_1, dtype: int64"
      ]
     },
     "execution_count": 371,
     "metadata": {},
     "output_type": "execute_result"
    }
   ],
   "source": [
    "data3['rating_1'].value_counts()"
   ]
  },
  {
   "cell_type": "code",
   "execution_count": 373,
   "metadata": {},
   "outputs": [
    {
     "data": {
      "text/plain": [
       "(3649.999, 10990.0]    280\n",
       "(14500.0, 21099.0]     266\n",
       "(21099.0, 124999.0]    258\n",
       "(10990.0, 14500.0]     247\n",
       "Name: Price_1, dtype: int64"
      ]
     },
     "execution_count": 373,
     "metadata": {},
     "output_type": "execute_result"
    }
   ],
   "source": [
    "data3['Price_1'].value_counts()"
   ]
  },
  {
   "cell_type": "code",
   "execution_count": 374,
   "metadata": {},
   "outputs": [
    {
     "data": {
      "text/plain": [
       "(3000.0, 4000.0]      442\n",
       "(1199.999, 3000.0]    304\n",
       "(4100.0, 6000.0]      251\n",
       "(4000.0, 4100.0]       54\n",
       "Name: Battery_1, dtype: int64"
      ]
     },
     "execution_count": 374,
     "metadata": {},
     "output_type": "execute_result"
    }
   ],
   "source": [
    "data3['Battery_1'].value_counts()"
   ]
  },
  {
   "cell_type": "code",
   "execution_count": 376,
   "metadata": {},
   "outputs": [
    {
     "data": {
      "text/plain": [
       "Product_Name            object\n",
       "Rating                 float64\n",
       "Display                 object\n",
       "Price                    int64\n",
       "RAM                     object\n",
       "ROM                     object\n",
       "Expandable_Memory       object\n",
       "Rear_Camera             object\n",
       "Front_Camera            object\n",
       "Battery                 object\n",
       "Processor               object\n",
       "Brand_Name              object\n",
       "Processor_Category      object\n",
       "Battery_1             category\n",
       "rating_1              category\n",
       "Price_1               category\n",
       "dtype: object"
      ]
     },
     "execution_count": 376,
     "metadata": {},
     "output_type": "execute_result"
    }
   ],
   "source": [
    "data3.dtypes"
   ]
  },
  {
   "cell_type": "code",
   "execution_count": null,
   "metadata": {},
   "outputs": [],
   "source": [
    "data3.to_excel(\"D:\\\\Jupyter Notebook\\\\Assignment 2\\\\V2\\\\FK_SP_Multiple_Pgs_Combined_Cleansed_V1_V3.xlsx\")"
   ]
  }
 ],
 "metadata": {
  "kernelspec": {
   "display_name": "Python 3",
   "language": "python",
   "name": "python3"
  },
  "language_info": {
   "codemirror_mode": {
    "name": "ipython",
    "version": 3
   },
   "file_extension": ".py",
   "mimetype": "text/x-python",
   "name": "python",
   "nbconvert_exporter": "python",
   "pygments_lexer": "ipython3",
   "version": "3.7.4"
  }
 },
 "nbformat": 4,
 "nbformat_minor": 2
}
