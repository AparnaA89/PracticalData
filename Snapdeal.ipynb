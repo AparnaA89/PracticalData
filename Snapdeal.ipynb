{
 "cells": [
  {
   "cell_type": "code",
   "execution_count": 37,
   "metadata": {},
   "outputs": [],
   "source": [
    "import bs4\n",
    "import requests\n",
    "import pandas as pd"
   ]
  },
  {
   "cell_type": "code",
   "execution_count": 38,
   "metadata": {},
   "outputs": [],
   "source": [
    "res = requests.get(\"https://www.snapdeal.com/search?keyword=smart%20phone&santizedKeyword=&catId=&categoryId=0&suggested=true&vertical=p&noOfResults=20&searchState=&clickSrc=suggested&lastKeyword=&prodCatId=&changeBackToAll=false&foundInAll=false&categoryIdSearched=&cityPageUrl=&categoryUrl=ALL&url=&utmContent=&dealDetail=&sort=rlvncy\")"
   ]
  },
  {
   "cell_type": "code",
   "execution_count": 39,
   "metadata": {},
   "outputs": [],
   "source": [
    "soup = bs4.BeautifulSoup(res.text,\"lxml\")"
   ]
  },
  {
   "cell_type": "code",
   "execution_count": 59,
   "metadata": {},
   "outputs": [],
   "source": [
    "Product_Name = soup.select(\".product-title \")\n",
    "Price = soup.select(\".lfloat.product-price \")\n",
    "Rating = soup.select(\".filled-stars\")"
   ]
  },
  {
   "cell_type": "code",
   "execution_count": 62,
   "metadata": {},
   "outputs": [],
   "source": [
    "details = pd.DataFrame(columns = (\"Product_Name\",\"Price\",\"Rating\"))"
   ]
  },
  {
   "cell_type": "code",
   "execution_count": 63,
   "metadata": {},
   "outputs": [],
   "source": [
    "l=0\n",
    "for i,j,k in zip(Product_Name,Price,Rating):\n",
    "    details.loc[l] = i.text,j.text,k.text;\n",
    "    l+=1"
   ]
  },
  {
   "cell_type": "code",
   "execution_count": 64,
   "metadata": {},
   "outputs": [
    {
     "name": "stdout",
     "output_type": "stream",
     "text": [
      "                                         Product_Name        Price Rating\n",
      "0                 Oppo CPH2015 ( 64 MB , 4 GB ) White  Rs.  12,490       \n",
      "1             Redmi NOTE 8 PRO ( 128GB , 6 GB ) Green  Rs.  17,999       \n",
      "2               Oppo A5S CPH1909 ( 64GB , 4 GB ) Gold  Rs.  11,990       \n",
      "3                        Vivo Y15 ( 64GB , 4 GB ) Red  Rs.  13,399       \n",
      "4                      Oppo A12  ( 64GB , 4 GB ) Blue  Rs.  11,490       \n",
      "5          Oppo CPH2015 ( 64GB , 4 GB ) Mystery Black  Rs.  12,490       \n",
      "6     Apple iPhone 7 ( 128GB and Above , 2 GB ) Black  Rs.  35,549       \n",
      "7             Redmi NOTE 8 PRO ( 128GB , 6 GB ) Black  Rs.  17,999       \n",
      "8            Tecno Camon I 3Gb (Champagne Gold, 32Gb)   Rs.  8,999       \n",
      "9                 OPPO F11 Pro ( 128GB , 6 GB ) Green  Rs.  17,990       \n",
      "10  ZIOX Ziox Starz Stylo ( 35 MB , 35 MB ) Black Red     Rs.  849       \n",
      "11   Apple iPhone 7 ( 128GB and Above , 2 GB ) Silver  Rs.  35,549       \n",
      "12             Redmi NOTE 8 PRO ( 128GB , 6 GB ) Blue  Rs.  17,999       \n",
      "13                    Alcatel 3V ( 32GB , 3 GB ) Gold   Rs.  8,599       \n",
      "14    Oppo Reno 3 Pro ( 128GB , 8 GB ) Midnight Black  Rs.  31,990       \n",
      "15              Lenovo A6600D40 ( 16GB , 2 GB ) Black   Rs.  5,512       \n",
      "16             Xolo Era 2 ( 8GB , 1 GB ) Pyramid Gold   Rs.  4,482       \n",
      "17           Swipe Konnect Grand ( 8GB , 1 GB ) Black   Rs.  2,998       \n",
      "18  Micromax Canvas 5 Lite Q463 ( 16GB , 3 GB ) Wa...   Rs.  5,732       \n"
     ]
    }
   ],
   "source": [
    " print(details)"
   ]
  },
  {
   "cell_type": "code",
   "execution_count": null,
   "metadata": {},
   "outputs": [],
   "source": []
  },
  {
   "cell_type": "code",
   "execution_count": null,
   "metadata": {},
   "outputs": [],
   "source": []
  }
 ],
 "metadata": {
  "kernelspec": {
   "display_name": "Python 3",
   "language": "python",
   "name": "python3"
  },
  "language_info": {
   "codemirror_mode": {
    "name": "ipython",
    "version": 3
   },
   "file_extension": ".py",
   "mimetype": "text/x-python",
   "name": "python",
   "nbconvert_exporter": "python",
   "pygments_lexer": "ipython3",
   "version": "3.7.4"
  }
 },
 "nbformat": 4,
 "nbformat_minor": 2
}
