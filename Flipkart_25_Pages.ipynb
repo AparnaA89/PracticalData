{
 "cells": [
  {
   "cell_type": "code",
   "execution_count": 58,
   "metadata": {},
   "outputs": [],
   "source": [
    "import bs4\n",
    "import requests\n",
    "import pandas as pd"
   ]
  },
  {
   "cell_type": "code",
   "execution_count": 67,
   "metadata": {},
   "outputs": [],
   "source": [
    "pages=[1,2,3,4,5,6,7,8,9,10,11,12,13,14,15,16,17,18,19,20,21,22,23,24,25]"
   ]
  },
  {
   "cell_type": "code",
   "execution_count": 74,
   "metadata": {},
   "outputs": [],
   "source": [
    "l=0"
   ]
  },
  {
   "cell_type": "code",
   "execution_count": 75,
   "metadata": {
    "scrolled": false
   },
   "outputs": [
    {
     "name": "stdout",
     "output_type": "stream",
     "text": [
      "                                   Product_Name    Price Rating\n",
      "0                   Redmi 8 (Onyx Black, 64 GB)   ₹9,499    4.4\n",
      "1                Realme C3 (Frozen Blue, 64 GB)   ₹8,999    4.4\n",
      "2                Realme C3 (Blazing Red, 64 GB)   ₹8,999    4.4\n",
      "3                Realme C3 (Blazing Red, 32 GB)   ₹7,999    4.4\n",
      "4                Realme C3 (Frozen Blue, 32 GB)   ₹7,999    4.4\n",
      "5          Realme 6 Pro (Lightning Blue, 64 GB)  ₹17,999    4.5\n",
      "6            Realme Narzo 10A (So White, 32 GB)   ₹8,499    4.6\n",
      "7             Realme Narzo 10A (So Blue, 32 GB)   ₹8,499    4.6\n",
      "8               Vivo U10 (Electric Blue, 32 GB)   ₹9,990    4.4\n",
      "9                Redmi 8 (Sapphire Blue, 64 GB)   ₹9,499    4.4\n",
      "10                Realme 6 (Comet White, 64 GB)  ₹13,999    4.4\n",
      "11        Redmi Note 8 Pro (Halo White, 128 GB)  ₹16,999    4.5\n",
      "12  Motorola G8 Power Lite (Arctic Blue, 64 GB)   ₹8,999    4.5\n",
      "13             Realme 5i (Forest Green, 128 GB)  ₹11,999    4.4\n",
      "14                Realme 5i (Aqua Blue, 128 GB)  ₹11,999    4.4\n",
      "15              Realme 5i (Forest Green, 64 GB)  ₹10,999    4.4\n",
      "16                 Realme 5i (Aqua Blue, 64 GB)  ₹10,999    4.4\n",
      "17              Vivo Z1Pro (Sonic Blue, 128 GB)  ₹16,990    4.5\n",
      "18               Vivo Z1Pro (Sonic Blue, 64 GB)  ₹13,990    4.5\n",
      "19              Vivo Z1Pro (Sonic Black, 64 GB)  ₹14,990    4.5\n",
      "20             Vivo Z1Pro (Sonic Black, 128 GB)  ₹16,990    4.5\n",
      "21               Vivo Z1Pro (Sonic Blue, 64 GB)  ₹14,990    4.5\n",
      "22       Redmi Note 8 Pro (Shadow Black, 64 GB)  ₹15,999    4.5\n",
      "23             Realme C2 (Diamond Black, 32 GB)   ₹6,999    4.4\n",
      "                                   Product_Name    Price Rating\n",
      "24                  Redmi 8 (Onyx Black, 64 GB)   ₹9,499    4.4\n",
      "25               Realme C3 (Frozen Blue, 64 GB)   ₹8,999    4.4\n",
      "26               Realme C3 (Blazing Red, 64 GB)   ₹8,999    4.4\n",
      "27               Realme C3 (Blazing Red, 32 GB)   ₹7,999    4.4\n",
      "28               Realme C3 (Frozen Blue, 32 GB)   ₹7,999    4.4\n",
      "29         Realme 6 Pro (Lightning Blue, 64 GB)  ₹17,999    4.5\n",
      "30           Realme Narzo 10A (So White, 32 GB)   ₹8,499    4.6\n",
      "31            Realme Narzo 10A (So Blue, 32 GB)   ₹8,499    4.6\n",
      "32              Vivo U10 (Electric Blue, 32 GB)   ₹9,990    4.4\n",
      "33               Redmi 8 (Sapphire Blue, 64 GB)   ₹9,499    4.4\n",
      "34        Redmi Note 8 Pro (Halo White, 128 GB)  ₹16,999    4.5\n",
      "35                Realme 6 (Comet White, 64 GB)  ₹13,999    4.4\n",
      "36  Motorola G8 Power Lite (Arctic Blue, 64 GB)   ₹8,999    4.5\n",
      "37                Realme 5i (Aqua Blue, 128 GB)  ₹11,999    4.4\n",
      "38                 Realme 5i (Aqua Blue, 64 GB)  ₹10,999    4.4\n",
      "39             Realme 5i (Forest Green, 128 GB)  ₹11,999    4.4\n",
      "40              Realme 5i (Forest Green, 64 GB)  ₹10,999    4.4\n",
      "41              Vivo Z1Pro (Sonic Blue, 128 GB)  ₹16,990    4.5\n",
      "42               Vivo Z1Pro (Sonic Blue, 64 GB)  ₹13,990    4.5\n",
      "43              Vivo Z1Pro (Sonic Black, 64 GB)  ₹14,990    4.5\n",
      "44               Vivo Z1Pro (Sonic Blue, 64 GB)  ₹14,990    4.5\n",
      "45             Vivo Z1Pro (Sonic Black, 128 GB)  ₹16,990    4.5\n",
      "46       Redmi Note 8 Pro (Shadow Black, 64 GB)  ₹15,999    4.5\n",
      "47              POCO X2 (Matrix Purple, 128 GB)  ₹18,499    4.5\n",
      "                                   Product_Name    Price Rating\n",
      "48                  Redmi 8 (Onyx Black, 64 GB)   ₹9,499    4.4\n",
      "49               Realme C3 (Frozen Blue, 64 GB)   ₹8,999    4.4\n",
      "50               Realme C3 (Blazing Red, 64 GB)   ₹8,999    4.4\n",
      "51               Realme C3 (Blazing Red, 32 GB)   ₹7,999    4.4\n",
      "52               Realme C3 (Frozen Blue, 32 GB)   ₹7,999    4.4\n",
      "53         Realme 6 Pro (Lightning Blue, 64 GB)  ₹17,999    4.5\n",
      "54           Realme Narzo 10A (So White, 32 GB)   ₹8,499    4.6\n",
      "55            Realme Narzo 10A (So Blue, 32 GB)   ₹8,499    4.6\n",
      "56              Vivo U10 (Electric Blue, 32 GB)   ₹9,990    4.4\n",
      "57               Redmi 8 (Sapphire Blue, 64 GB)   ₹9,499    4.4\n",
      "58        Redmi Note 8 Pro (Halo White, 128 GB)  ₹16,999    4.5\n",
      "59                Realme 6 (Comet White, 64 GB)  ₹13,999    4.4\n",
      "60  Motorola G8 Power Lite (Arctic Blue, 64 GB)   ₹8,999    4.5\n",
      "61                Realme 5i (Aqua Blue, 128 GB)  ₹11,999    4.4\n",
      "62                 Realme 5i (Aqua Blue, 64 GB)  ₹10,999    4.4\n",
      "63             Realme 5i (Forest Green, 128 GB)  ₹11,999    4.4\n",
      "64              Realme 5i (Forest Green, 64 GB)  ₹10,999    4.4\n",
      "65              Vivo Z1Pro (Sonic Blue, 128 GB)  ₹16,990    4.5\n",
      "66               Vivo Z1Pro (Sonic Blue, 64 GB)  ₹13,990    4.5\n",
      "67              Vivo Z1Pro (Sonic Black, 64 GB)  ₹14,990    4.5\n",
      "68               Vivo Z1Pro (Sonic Blue, 64 GB)  ₹14,990    4.5\n",
      "69             Vivo Z1Pro (Sonic Black, 128 GB)  ₹16,990    4.5\n",
      "70       Redmi Note 8 Pro (Shadow Black, 64 GB)  ₹15,999    4.5\n",
      "71              POCO X2 (Matrix Purple, 128 GB)  ₹18,499    4.5\n"
     ]
    }
   ],
   "source": [
    "for page in pages:\n",
    "    res = requests.get(\"https://www.flipkart.com/search?q=phones&otracker=search&otracker1=search&marketplace=FLIPKART&as-show=on&as=off&page()\".format(page))\n",
    "    soup = bs4.BeautifulSoup(res.text,\"lxml\")\n",
    "    Product_Name = soup.select(\"._3wU53n\")\n",
    "    Price = soup.select(\"._1vC4OE._2rQ-NK\")\n",
    "    Rating = soup.select(\".hGSR34\")\n",
    "    details = pd.DataFrame(columns = (\"Product_Name\",\"Price\",\"Rating\"))\n",
    "    for i,j,k in zip(Product_Name,Price,Rating):\n",
    "        details.loc[l] = i.text,j.text,k.text;\n",
    "        l+=1\n",
    "    print(details)\n",
    "details.to_excel(\"D:\\\\Jupyter Notebook\\\\Assignment 1\\\\smartphones_25_pages.xlsx\")"
   ]
  },
  {
   "cell_type": "code",
   "execution_count": 77,
   "metadata": {},
   "outputs": [],
   "source": [
    "l=0"
   ]
  },
  {
   "cell_type": "code",
   "execution_count": 78,
   "metadata": {},
   "outputs": [
    {
     "name": "stdout",
     "output_type": "stream",
     "text": [
      "Empty DataFrame\n",
      "Columns: [Product_Name, Price, Rating]\n",
      "Index: []\n",
      "Empty DataFrame\n",
      "Columns: [Product_Name, Price, Rating]\n",
      "Index: []\n",
      "Empty DataFrame\n",
      "Columns: [Product_Name, Price, Rating]\n",
      "Index: []\n"
     ]
    }
   ],
   "source": [
    "for page in pages:\n",
    "    res1 = requests.get(\"https://www.amazon.in/s?k=smartphones&qid=1592750532&ref=sr_pg_()\".format(page))\n",
    "    soup = bs4.BeautifulSoup(res1.text,\"lxml\")\n",
    "    Product_Name = soup.select(\".a-size-medium.a-color-base.a-text-normal\")\n",
    "    Price = soup.select(\".a-price-whole\")\n",
    "    Rating = soup.select(\".a-icon.a-icon-star-small.a-star-small-4-5.aok-align-bottom\")\n",
    "    details1 = pd.DataFrame(columns = (\"Product_Name\",\"Price\",\"Rating\"))\n",
    "    for i,j,k in zip(Product_Name,Price,Rating):\n",
    "        details1.loc[l] = i.text,j.text,k.text;\n",
    "        l+=1\n",
    "    print(details1)"
   ]
  },
  {
   "cell_type": "code",
   "execution_count": null,
   "metadata": {},
   "outputs": [],
   "source": []
  }
 ],
 "metadata": {
  "kernelspec": {
   "display_name": "Python 3",
   "language": "python",
   "name": "python3"
  },
  "language_info": {
   "codemirror_mode": {
    "name": "ipython",
    "version": 3
   },
   "file_extension": ".py",
   "mimetype": "text/x-python",
   "name": "python",
   "nbconvert_exporter": "python",
   "pygments_lexer": "ipython3",
   "version": "3.7.4"
  }
 },
 "nbformat": 4,
 "nbformat_minor": 2
}
